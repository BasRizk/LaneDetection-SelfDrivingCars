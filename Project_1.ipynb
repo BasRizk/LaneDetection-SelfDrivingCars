{
  "nbformat": 4,
  "nbformat_minor": 0,
  "metadata": {
    "kernelspec": {
      "display_name": "Python 3",
      "language": "python",
      "name": "python3"
    },
    "language_info": {
      "codemirror_mode": {
        "name": "ipython",
        "version": 3
      },
      "file_extension": ".py",
      "mimetype": "text/x-python",
      "name": "python",
      "nbconvert_exporter": "python",
      "pygments_lexer": "ipython3",
      "version": "3.5.2"
    },
    "colab": {
      "name": "Project_1.ipynb",
      "provenance": [],
      "toc_visible": true
    }
  },
  "cells": [
    {
      "cell_type": "markdown",
      "metadata": {
        "id": "82uA9wzmJav4",
        "colab_type": "text"
      },
      "source": [
        "# Project Steps\n",
        " ## Main Steps:\n",
        "\n",
        "* Camera calibration and distortion correction.\n",
        "* Color/gradient threshold.\n",
        "* Perspective transform.\n",
        "* Detect lane lines.\n",
        "\n",
        "## Extra Step:\n",
        "* Determine the lane curvature."
      ]
    },
    {
      "cell_type": "markdown",
      "metadata": {
        "id": "CzLFGoFcdN2-",
        "colab_type": "text"
      },
      "source": [
        ""
      ]
    },
    {
      "cell_type": "code",
      "metadata": {
        "id": "Hshe7MCWdOpW",
        "colab_type": "code",
        "colab": {}
      },
      "source": [
        "import numpy as np\n",
        "import cv2\n",
        "import matplotlib.pyplot as plt\n",
        "import matplotlib.image as mpimg\n",
        "%matplotlib inline"
      ],
      "execution_count": 0,
      "outputs": []
    },
    {
      "cell_type": "markdown",
      "metadata": {
        "id": "zYIX_WJ5Jav5",
        "colab_type": "text"
      },
      "source": [
        "# Camera Calibration  and Distortion Correction"
      ]
    },
    {
      "cell_type": "markdown",
      "metadata": {
        "id": "KAVcKmXveh6_",
        "colab_type": "text"
      },
      "source": [
        "\n",
        "*   Utils\n"
      ]
    },
    {
      "cell_type": "code",
      "metadata": {
        "id": "IZFcVuOPJav6",
        "colab_type": "code",
        "colab": {}
      },
      "source": [
        "def cameraCalibrate(image):\n",
        "    # Compute the camera calibration matrix and distortion coefficients given a set of chessboard images.\n",
        "    import glob\n",
        "\n",
        "    #read in and make a list of calibration images\n",
        "    images = glob.glob('./camera_cal/calibration*.jpg')\n",
        "\n",
        "    #Arrays to store objects points and image points from all the images\n",
        "    objpoints = [] #3d points\n",
        "    imgpoints = [] #2d points\n",
        "\n",
        "    #prepare points\n",
        "    objp  = np.zeros((9*6,3),np.float32)\n",
        "    objp[:,:2] = np.mgrid[0:9,0:6].T.reshape(-1,2)\n",
        "\n",
        "\n",
        "    for fname in images:\n",
        "        #read in each image\n",
        "        img = mpimg.imread(fname)\n",
        "        #convert image to gray scale  \n",
        "        gray  = cv2.cvtColor(img,cv2.COLOR_RGB2GRAY)\n",
        "        #find corners  \n",
        "        ret,corners = cv2.findChessboardCorners(gray,(9,6),None)\n",
        "        if ret == True:\n",
        "            imgpoints.append(corners)\n",
        "            objpoints.append(objp)\n",
        "            \n",
        "    shape =(img.shape[1],img.shape[0])\n",
        "    ret, mtx, dist, rvect, tvect = cv2.calibrateCamera(objpoints,imgpoints,shape,None,None)\n",
        "    \n",
        "    #undistored the image\n",
        "    undistorted_image = cv2.undistort(image, mtx, dist, None, mtx)\n",
        "    return undistorted_image\n",
        "\n",
        "def perspective_transform(undistorted):   \n",
        "    img_size = (undistorted.shape[1], undistorted.shape[0])\n",
        "    M = cv2.getPerspectiveTransform(src, dst)\n",
        "    transformed_img = cv2.warpPerspective(undistorted, M, img_size, flags=cv2.INTER_LINEAR)\n",
        "    return transformed_img"
      ],
      "execution_count": 0,
      "outputs": []
    },
    {
      "cell_type": "markdown",
      "metadata": {
        "id": "NgpLeFaRe9s2",
        "colab_type": "text"
      },
      "source": [
        "**Test Calibration**"
      ]
    },
    {
      "cell_type": "code",
      "metadata": {
        "id": "SjoLzfwefTJb",
        "colab_type": "code",
        "colab": {}
      },
      "source": [
        "task_image = mpimg.imread('./test3.jpg')\n",
        "\n",
        "f, (ax1,ax2) = plt.subplots(1, 2, figsize=(20,10))\n",
        "ax1.set_title('Original image', fontsize=20)\n",
        "ax1.imshow(task_image)\n",
        "ax2.set_title('calibrated image', fontsize=20)\n",
        "task_image=cameraCalibrate(task_image)\n",
        "ax2.imshow(cameraCalibrate(task_image))\n",
        "\n",
        "# make sure that the points follow the right arrangement whether it's clockwise or counter-clockwise\n",
        "# source and destination points must have the same arrangement whether it's clockwise or counter-clockwise\n",
        "# The points in src array are (x,y).\n",
        "# task_image = cameraCalibrate(task_image)\n",
        "\n",
        "w = task_image.shape[1]\n",
        "h = task_image.shape[0]\n",
        "src = np.float32([[w/8,h],[3*w/8,4*h/6],\n",
        "                  [5*w/8,4*h/6],[7*w/8,h]])\n",
        "\n",
        "# visualize your mask region\n",
        "f, (ax1) = plt.subplots(1, 1, figsize=(20,10))\n",
        "ax1.set_title('source area', fontsize=20)\n",
        "ax1.imshow(task_image)\n",
        "ordered_y = [src[0][1],src[1][1],src[2][1],src[3][1],src[0][1]]\n",
        "ordered_x = [src[0][0],src[1][0],src[2][0],src[3][0],src[0][0]]\n",
        "ax1.plot(ordered_x,ordered_y , color='red', alpha=0.7,\n",
        "    linewidth=3, solid_capstyle='round', zorder=2)\n",
        "\n",
        "# make sure that the points follow the right arrangement whether it's clockwise or counter-clockwise\n",
        "# source and destination points must have the same arrangement whether it's clockwise or counter-clockwise\n",
        "# The points in src array are (x,y).\n",
        "dst = np.float32([[2*w/10,h],[2*w/10,2*h/10],\n",
        "                  [8*w/10,2*h/10],[8*w/10,h]])\n",
        "# dst = np.float32([[0,8*h/10], [0,0],\n",
        "#                  [w,0], [w,h]])\n",
        "\n",
        "# visualize your mask region\n",
        "f, (ax1) = plt.subplots(1, 1, figsize=(20,10))\n",
        "ax1.set_title('destination area', fontsize=20)\n",
        "ax1.imshow(task_image)\n",
        "ordered_y = [dst[0][1],dst[1][1],dst[2][1],dst[3][1],dst[0][1]]\n",
        "ordered_x = [dst[0][0],dst[1][0],dst[2][0],dst[3][0],dst[0][0]]\n",
        "ax1.plot(ordered_x,ordered_y , color='red', alpha=0.7,\n",
        "    linewidth=3, solid_capstyle='round', zorder=2)\n",
        "\n",
        "# Undistord the image then apply perspective transformation\n",
        "transformed_image = perspective_transform(task_image)\n",
        "# visualize your results\n",
        "f, (ax1,ax2) = plt.subplots(1, 2, figsize=(20,10))\n",
        "ax1.set_title('Original image', fontsize=20)\n",
        "ax1.imshow(task_image)\n",
        "ax2.set_title('Transformed image', fontsize=20)\n",
        "ax2.imshow(transformed_image)"
      ],
      "execution_count": 0,
      "outputs": []
    },
    {
      "cell_type": "markdown",
      "metadata": {
        "id": "PULmYxJQJav-",
        "colab_type": "text"
      },
      "source": [
        "# Gradient / Color Threshold"
      ]
    },
    {
      "cell_type": "code",
      "metadata": {
        "id": "gHn67GNZJav_",
        "colab_type": "code",
        "colab": {}
      },
      "source": [
        ""
      ],
      "execution_count": 0,
      "outputs": []
    },
    {
      "cell_type": "markdown",
      "metadata": {
        "id": "o4k2Dpf2JawE",
        "colab_type": "text"
      },
      "source": [
        "# Perspective Transform"
      ]
    },
    {
      "cell_type": "code",
      "metadata": {
        "id": "mQWmHk-tJawE",
        "colab_type": "code",
        "colab": {}
      },
      "source": [
        ""
      ],
      "execution_count": 0,
      "outputs": []
    },
    {
      "cell_type": "markdown",
      "metadata": {
        "id": "VzZTfbdgJawH",
        "colab_type": "text"
      },
      "source": [
        "# Detect Lane Lines\n",
        "\n",
        "After finishing the previous steps You now have a thresholded warped image and you're ready to map out the lane lines! There are many ways you could go about this, but here's one example of how you might do it:\n",
        "### Peaks in a Histogram and Sliding Windows\n",
        "* After applying calibration, thresholding, and a perspective transform to a road image, you should have a binary image where the lane lines stand out clearly. However, you still need to decide explicitly which pixels are part of the lines and which belong to the left line and which belong to the right line.\n",
        "* we can use the two highest peaks from our histogram as a starting point for determining where the lane lines are, and then use sliding windows moving upward in the image (further along the road) to determine where the lane lines go.\n",
        "#### steps:\n",
        "  1. split the histogram into two sides, one for each lane line.\n",
        "  2. Set up sliding windows and window hyperparameters:\n",
        "     * set a few hyperparameters related to our sliding windows, and set them up to iterate across the binary activations in the image. These hyperparameters are:\n",
        "        1. **W_Number**; number of sliding windows.\n",
        "        2. **Margin**; the width of each window.\n",
        "        3. **Minimum_pixels**; used as a threshold to recenter the next sliding window.\n",
        "        4. **Window_Height**; computed from number of pixels and image height.\n",
        "  3. Loop through each window in W_Number.\n",
        "  4. Find the boundaries of our current window. This is based on a combination of the current window's starting point      , as well as the margin you set in the hyperparameters.\n",
        "  5. Use cv2.rectangle to draw these window boundaries onto visualization image.\n",
        "  6. Now that we know the boundaries of our window, find out which activated(non zero) pixels actually fall into the window.\n",
        "  7. Append these non zero pixels to two different arrays one for the right line and the other for the left line.\n",
        "  8. If the number of pixels you found in Step **6** are greater than your hyperparameter Minimum_pixels, re-center our window based on the mean position of these pixels.\n",
        "  9. Now that we have found all our pixels belonging to each line through the sliding window method, it's time to fit a polynomial to the line."
      ]
    },
    {
      "cell_type": "code",
      "metadata": {
        "id": "w_9nj4xWJawI",
        "colab_type": "code",
        "colab": {}
      },
      "source": [
        ""
      ],
      "execution_count": 0,
      "outputs": []
    },
    {
      "cell_type": "markdown",
      "metadata": {
        "id": "NaUKAAhqJawL",
        "colab_type": "text"
      },
      "source": [
        "## This function is to draw back the lane on the original image\n",
        "**N.B.** Add an inverse option in the perspective function so that we can transform the image back to it's original perspective. This can be implemented by swapping **src** and **dst** in cv2.getPerspectiveTransform(src, dst) when a certain flag is set to 1."
      ]
    },
    {
      "cell_type": "code",
      "metadata": {
        "id": "-E84r1NXJawL",
        "colab_type": "code",
        "colab": {}
      },
      "source": [
        "#draw lane\n",
        "# left_fit and right_fit generated from step 9 in lane Detection\n",
        "# bird_eye the image after thresholding and perspective transform\n",
        "# read the inverse note below in the code\n",
        "def draw_lane(img,bird_eye,left_fit,right_fit):\n",
        "    tmp_image     = np.copy(img)\n",
        "    if right_fit is None or left_fit is None:\n",
        "        return img\n",
        "    \n",
        "    zero          = np.zeros_like(bird_eye).astype(np.uint8)\n",
        "    layered_image = np.dstack((zero,zero,zero))\n",
        "    \n",
        "    ploty      = np.linspace(0, bird_eye.shape[0]-1, bird_eye.shape[0] )\n",
        "    left_fitx  = left_fit[0]*ploty**2 + left_fit[1]*ploty + left_fit[2]\n",
        "    right_fitx = right_fit[0]*ploty**2 + right_fit[1]*ploty + right_fit[2] \n",
        "    \n",
        "    #formatting the points\n",
        "    left   = np.array([np.transpose(np.vstack([right_fitx,ploty]))])\n",
        "    right  = np.array([np.flipud(np.transpose(np.vstack([left_fitx,ploty])))])\n",
        "    points = np.hstack((left,right))\n",
        "    \n",
        "    #form lane\n",
        "    cv2.fillPoly(layered_image,np.int_([points]),(0,255,0))\n",
        "    cv2.polylines(layered_image,np.int32([right]),isClosed = False,color=(255,0,0),thickness = 20)\n",
        "    cv2.polylines(layered_image,np.int32([left]),isClosed = False,color=(255,0,0),thickness = 20)\n",
        "    \n",
        "    # The inverse perspective transfom note\n",
        "    # use the inverse perspective option mentioned in the note above to transform back the layered_image\n",
        "    inversed = perspective_transform(layered_image,1)\n",
        "    \n",
        "    output   = cv2.addWeighted(tmp_image,1,inversed,0.5,0)\n",
        "    return output"
      ],
      "execution_count": 0,
      "outputs": []
    },
    {
      "cell_type": "markdown",
      "metadata": {
        "id": "P-lHI2bCJawO",
        "colab_type": "text"
      },
      "source": [
        "## Determine The Lane Curvature\n",
        "You're getting very close to a final result! You have a thresholded image, where you've estimated which pixels belong to the left and right lane lines, and you've fit a polynomial to those pixel positions. Next we'll compute the radius of curvature of the fit.\n",
        "\n",
        "## Curvature in Pixels\n",
        "In the last step we computed the lane line pixels using their x and y pixel positions to fit a second order polynomial curve: $$f(y) = Ay^2+By+C $$\n",
        "in this step you will compute the radius of curvature at the closest point to the vehicle.\n",
        "\n",
        "**Radius of Curvature Equation:**\n",
        "$$R\\_Curve = \\frac{[1+(\\frac{dx}{dy})^2]^{3/2}}{|\\frac{d^2x}{dy^2}|}$$\n",
        "\n",
        "$$f'(y) = \\frac{dx}{dy} = 2Ay+B$$\n",
        "\n",
        "$$f''(y) = \\frac{d^2x}{dy^2} =A$$\n",
        "\n",
        "## From Pixels to Real World\n",
        "* Great! You've now calculated the radius of curvature for our lane lines. But now we need to stop and think... We've calculated the radius of curvature based on pixel values, so the radius we are reporting is in pixel space, which is not the same as real world space. So we actually need to repeat this calculation after converting our x and y values to real world space.\n",
        "\n",
        "* This involves measuring how long and wide the section of lane is that we're projecting in our warped image. We could do this in detail by measuring out the physical lane in the field of view of the camera, but for this project, you can assume that if you're projecting a section of lane similar to the images above, the lane is about 30 meters long and 3.7 meters wide."
      ]
    },
    {
      "cell_type": "code",
      "metadata": {
        "id": "CKtO-s-9JawO",
        "colab_type": "code",
        "colab": {}
      },
      "source": [
        ""
      ],
      "execution_count": 0,
      "outputs": []
    }
  ]
}